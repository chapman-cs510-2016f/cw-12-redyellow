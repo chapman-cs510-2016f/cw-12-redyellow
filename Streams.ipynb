{
 "cells": [
  {
   "cell_type": "markdown",
   "metadata": {
    "collapsed": false
   },
   "source": [
    "**The key differences that you see in the file between C++ and C.**\n",
    "\n",
    "1. Instead of .c files, C++ uses .cc files\n",
    "2. C++ uses namespaces to organize symbols into logical groupings, which includes all types, functions, variables. It's a higher abstract object. But C don't have namespace.\n",
    "3. C++ uses iostream, fstream,strstream for input and output strings, while C use function printf, sprintf and so on.\n"
   ]
  },
  {
   "cell_type": "markdown",
   "metadata": {},
   "source": [
    "**Describe the concept of a namespace, and what :: means.**\n",
    "\n",
    "A namespace is a declarative region that provides a scope to the identifiers (the names of types, functions, variables, etc) inside it. Namespaces are used to organize code into logical groups and to prevent name collisions that can occur especially when your code base includes multiple libraries. \"::\" is the identifier of the specific elements in the namespace. For example std::cout means using the function cout in the namespace std. "
   ]
  },
  {
   "cell_type": "markdown",
   "metadata": {},
   "source": [
    "**Describe how streams do things differently. In particular, explain the differences in reading from command line arguments, reading and writing to a file, printing to standard output, and printing to standard error.**\n",
    "\n",
    "The same as C, C++ use two arguments in main function, argc and argv to read from command line. But it use fstream/ifstream/ofstream to read/write from files.  It also uses istream/ostream/iostream to read/write from standard input/ouput/error.  \n",
    "The following tables are infromation about the class and output/input/error of iostream.\n",
    "\n",
    "|Form of IO| Input| Output| Input and Output\n",
    "|---|---|---|---\n",
    "|Standard IO| istream| ostream| iostream|\n",
    "|File IO| ifstream| ofstream| fstream|\n",
    "|Array of char IO| istrstream| ostrstream| strstream|\n",
    "\n",
    "| command  | Stream | Type | Buffered Description\n",
    "|--- | --- | --- | ---\n",
    "|cin | istream| Yes  | Connected to standard input (e.g., the keyboard)|\n",
    "|cout| ostream| Yes  | Connected to standard output (e.g., the monitor)|\n",
    "|clog| ostream| Yes  | Connected to standard error (e.g., the monitor)|\n",
    "|cerr| ostream| No   | Connected to standard error (e.g., the monitor)|\n",
    "\n"
   ]
  },
  {
   "cell_type": "markdown",
   "metadata": {},
   "source": [
    "**Explain how a C++ string differs from a C string.**\n",
    "\n",
    "1.A C-string, which consists of an array of characters terminated by the null character '\\0', and which therefore is different from an ordinary array of characters. There is a whole library of functions for dealing with strings represented in this form. Its header file is <cstring>. In some implementations this library may be automatically included when you include other libraries such as the <iostream> library. Note that the null character may very well not be the very last character in the C-string array, but it will be the first character beyond the last character of the actual string data in in that array. For example if you have a C-string storing \"Hello\" in a character array of size 10, then the letters of the word \"Hello\" will be in positions with indices 0 to 4, there will be a null character at index 5, and the locations with indices 6 to 9 will contain who-knows-what. In any case, it's the null character at index 5 that makes this otherwise ordinary character array a C-string.\n",
    "\n",
    "2.A C++ string object, which is an instance of a \"class\" data type whose actual internal representation you need not know or care about, as long as you know what you can and can't do with variables (and constants) having this data type. There is a library of C++ string functions as well, available by including the <string> header file.\n",
    "\n",
    "//From: http://cs.stmarys.ca/~porter/csc/ref/c_cpp_strings.html"
   ]
  },
  {
   "cell_type": "markdown",
   "metadata": {
    "collapsed": true
   },
   "source": [
    "**Output:**\n",
    "\n",
    "```\n",
    "~/cw-12-redyellow/src/streams$ make\n",
    "make: Nothing to be done for 'all'.\n",
    "~/cw-12-redyellow/src/streams$ ./streams     # When there is no commandline argument, it will return and prompt use format, \"./streams arg1\".\n",
    "Usage: ./streams arg1\n",
    "~/cw-12-redyellow/src/streams$ ./streams 3\n",
    "arg1 = 3                       #output the imput argrument,here is 3.\n",
    "This is printing from foo.     # call function print() in namespace foo.\n",
    "This is printing from bar.     # call function print() in namespace bar.\n",
    "This is printing from foo.     # after localize foo::print, call print() in main() function directly, it will call foo::print.\n",
    "Enter a float: 3.5             # ask for enter a float, here i type in 3.5\n",
    "Input as a float: 3.5          # print the input float, which is parsed to float.\n",
    "Input as an int : 3            # print the input float, which is parsed to int.\n",
    "```"
   ]
  }
 ],
 "metadata": {
  "kernelspec": {
   "display_name": "Bash (Linux)",
   "language": "bash",
   "name": "bash"
  },
  "language_info": {
   "codemirror_mode": "shell",
   "file_extension": ".sh",
   "mimetype": "text/x-sh",
   "name": "bash"
  }
 },
 "nbformat": 4,
 "nbformat_minor": 0
}
