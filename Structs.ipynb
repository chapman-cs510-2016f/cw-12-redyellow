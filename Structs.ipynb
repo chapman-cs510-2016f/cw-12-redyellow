{
 "cells": [
  {
   "cell_type": "markdown",
   "metadata": {
    "collapsed": false
   },
   "source": [
    "**explain how this code differs from the equivalent C implementation that you examined in a previous class. Be specific and detailed.**\n",
    "\n",
    "1. In C++ header file, there is #ifndef  and #endif to start and end of the header file; C doesn't have.\n",
    "2. In C++ header file, there is \"#define guard\" to ensure that the header file is only included once by the preprocessor; In C there is some unit testing frameworks, too.\n",
    "3. In C++ struct, it has a typedef defined automatically; In C, you must declare and alias a new struct type before use.\n",
    "4. Function overloading allows the same name to be used for different types, which doesn't work in C.\n",
    "5. In new C++ pass-by-reference, Vec2 &wp, its fields are accessed by wp.x (just as pass-by-value), but the original memory location is altered. In C, you have to define as a pointer, like Vec2 *wp."
   ]
  },
  {
   "cell_type": "markdown",
   "metadata": {},
   "source": [
    "**Explain what a #define guard does, and why it could be useful**\n",
    "\n",
    "It used to ensure the header file is only included once by the preprocessor. Thus avoid the second definition of objects, like struct, type, functions and so on. So that the program can compile correctly. \n",
    "\n",
    "// From: https://en.wikipedia.org/wiki/Include_guard"
   ]
  },
  {
   "cell_type": "markdown",
   "metadata": {},
   "source": [
    "**Explain what type overloading is, and why it could be useful**\n",
    "\n",
    "It defines both operator and function overloading, which is the same name but different types or the number of arguments, but only return type different doesn't work. It is useful because you can have multiple definitions for the same function name in the same scope. When you call an overloaded function or operator, the compiler determines the most appropriate definition to use by comparing the argument types you used to call the function or operator with the parameter types specified in the definitions.\n",
    "\n",
    "//From: https://www.tutorialspoint.com/cplusplus/cpp_overloading.htm"
   ]
  },
  {
   "cell_type": "markdown",
   "metadata": {},
   "source": [
    "**Explain the difference between \"pass by reference\" in C and \"pass by reference\" in C++.**\n",
    "\n",
    "In C, the function argument must defined as a point(memory address), like *wp, which can be accessed by this way, eg. (*wp).x or wp->x. When passing a pointer to a function, the address it contains is copied into the function. Modifying that pointer inside the function will not change the pointer outside the function - however, modifying the object it points to will change the object outside the function.\n",
    "In C++, it is an explicit reference, like &wp, which can be accessed by wp.x. when passing an argument to a function that takes reference type, the object is truly passed by reference. There are no pointers involved, no copying of objects, no nothing. The name inside the function actually refers to exactly the same object that was passed in. \n",
    "\n",
    "//From: http://stackoverflow.com/questions/13654138/what-exactly-is-the-difference-between-pass-by-reference-in-c-and-in-c"
   ]
  },
  {
   "cell_type": "markdown",
   "metadata": {},
   "source": [
    "**Explain what operator type overloading is, and why it could be useful**\n",
    "\n",
    "Overloaded operators are functions with special names the keyword operator followed by the symbol for the operator being defined. Like any other function, an overloaded operator has a return type and a parameter list. Because you can define the same operater with different type or numbers of arguments. It can choose the most appropriate operater by comparing the argument type or numbers you used."
   ]
  },
  {
   "cell_type": "markdown",
   "metadata": {},
   "source": [
    "**Output:**\n",
    "\n",
    "```\n",
    "-----Pass by value test-----\n",
    "Original 3 vector:\n",
    "3-Vector : [0, 0, 0]                 # print the value of Vec3 before set_vec3, which use pass-by-value\n",
    "Original 3 vector after modification:\n",
    "3-Vector : [0, 0, 0]                 # print the value of Vec3 after set_vec3, but it isn't change, because it use pass-by-value, which wont' change the value of outside function.\n",
    "New 3 vector after modification:\n",
    "3-Vector : [1, 2, 3]                 # It reture the modified value to vprime.\n",
    "-----Pass by reference test-----\n",
    "Original 2 vector:\n",
    "2Vector : [0, 0]                     # Print the value of Vec2 before set_vec2, which use pass-by-referess(C++)\n",
    "Original 2 vector after modification:\n",
    "2Vector : [1, 2]                     # Print the value of outside value of Vec2, which has been changed to the new value,  as it uses pass-by-reference.\n",
    "```"
   ]
  }
 ],
 "metadata": {
  "kernelspec": {
   "display_name": "Python 2 (SageMath)",
   "language": "python",
   "name": "python2"
  },
  "language_info": {
   "codemirror_mode": {
    "name": "ipython",
    "version": 2
   },
   "file_extension": ".py",
   "mimetype": "text/x-python",
   "name": "python",
   "nbconvert_exporter": "python",
   "pygments_lexer": "ipython2",
   "version": "2.7.10"
  }
 },
 "nbformat": 4,
 "nbformat_minor": 0
}
