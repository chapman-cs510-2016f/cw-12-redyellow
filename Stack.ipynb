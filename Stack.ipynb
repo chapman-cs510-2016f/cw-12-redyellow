{
 "cells": [
  {
   "cell_type": "markdown",
   "metadata": {
    "collapsed": false
   },
   "source": [
    "** CS510_CW12_Nengyin & Kaiqin **\n",
    "\n",
    "** Examine the source code in src/stack carefully. **\n",
    "\n",
    "**i. How the Stack type is defined and how it works in detail. Explain in particular the differences between this implementation and the C implementation that you have already coded.**\n",
    "\n",
    "Nengyin:\n",
    "\n",
    "It use a class Stack to define. In Stack there are public and private namespaces. In private part, it defines static varibles, like struct, depth and head which is the properties of the class. In public part, it defines all methods, like stack(), push(), pop(), and so on, which will use the private variables. However, C does not have class and unique_ptr, which free memories automatically when it is not used. It uses struct as the Node structure to store data and next pointer, and use functions.\n",
    "\n",
    "Kaiqin:\n",
    "\n",
    "In C++, Stack is defined as a class.  Node is a struct in this class.  Node consists of an integer value and an address pointing to the next Node.  In class Stack, there are two namespaces, private and public.  Private namespace contains struct Node, depth (how many Nodes are there in class Stack), and head (which points to the first Node).  Public namespace defines size() const, functions void push(), SValue pop(), void print() const, and bool full()."
   ]
  },
  {
   "cell_type": "markdown",
   "metadata": {},
   "source": [
    "**ii. Explain the difference between a class and a struct**\n",
    "\n",
    "Structs have default public members and bases and classes have default private members and bases. However, when both private and public are explicitly declared, there is no difference between a class and a struct. Both classes and structs can have a mixture of public and private members, can use inheritance and can have member functions. Classes create a namespace that also encapsulates the functions for manipulating its data elements. Classes may not be used when interfacing with C, because C does not have a concept of classes.\n",
    "\n",
    "//From: http://stackoverflow.com/questions/54585/when-should-you-use-a-class-vs-a-struct-in-c\n"
   ]
  },
  {
   "cell_type": "code",
   "execution_count": null,
   "metadata": {
    "collapsed": true
   },
   "outputs": [],
   "source": [
    "//***Do like your comments in stack.h so copied here for future review and study:***\n",
    "\n",
    "// In C++ a class is just a fancy struct\n",
    "// Both struct and class have two internal namespaces:\n",
    "//    private: only accessible by the struct/class itself\n",
    "//    public: accessible by other code that is using the struct/class\n",
    "//\n",
    "// When both private and public are explicitly declared, there is no\n",
    "// difference between a class and a struct\n",
    "//\n",
    "// However, when neither private nor public are declared, then:\n",
    "//    struct: defaults to public\n",
    "//    class: defaults to private\n",
    "//\n",
    "// By convention (Google), use structs for static data, and use\n",
    "// classes for everything else\n",
    "//\n",
    "// Notably, classes can include internal function definitions (like in Python)\n",
    "// Internal functions of a class are called \"methods\"\n",
    "//\n",
    "// A class also always has a pointer to itself available, named \"this\"\n",
    "// The keyword \"this\" serves a similar purpose to \"self\" in Python\n",
    "// It allows you to access a specific \"instance\" of the class so that\n",
    "// you can manipulate it within the definitions of your methods\n",
    "//\n",
    "// Recall that C++ automatically typedefs structs/classes"
   ]
  },
  {
   "cell_type": "markdown",
   "metadata": {},
   "source": [
    "**iii. Explain what private and public do**\n",
    "\n",
    "The private and public, also protected restrict the access to the class members.\n",
    "A private member variable or function cannot be accessed, or even viewed from outside the class. Only the class and friend functions can access private members.\n",
    "A public member is accessible from anywhere outside the class but within a program. You can set and get the value of public variables without any member function.\n",
    "A protected member variable or function is very similar to a private member but it provided one additional benefit that they can be accessed in child classes which are called derived classes.\n",
    "\n",
    "//From: https://www.tutorialspoint.com/cplusplus/cpp_class_access_modifiers.htm\n"
   ]
  },
  {
   "cell_type": "code",
   "execution_count": null,
   "metadata": {
    "collapsed": true
   },
   "outputs": [],
   "source": [
    "//*Quote from comments:*\n",
    "    // This structure type is private to the class, and used as a form of\n",
    "    // linked list in order to contain the actual (static) data stored by the Stack class"
   ]
  },
  {
   "cell_type": "markdown",
   "metadata": {},
   "source": [
    "**iv. Explain what size_t is used for**\n",
    "\n",
    "It is a type that can represent the size of any object in bytes: size_t is the type returned by the sizeof operator and is widely used in the standard library to represent sizes and counts.\n",
    "\n",
    "//From: http://www.cplusplus.com/reference/cstring/size_t/\n"
   ]
  },
  {
   "cell_type": "code",
   "execution_count": null,
   "metadata": {
    "collapsed": true
   },
   "outputs": [],
   "source": [
    "//*Quote from comments:*\n",
    "    // Size method\n",
    "    // Specifying const tells the compiler that the method will not change the\n",
    "    // internal state of the instance of the class"
   ]
  },
  {
   "cell_type": "markdown",
   "metadata": {},
   "source": [
    "**v. Explain why this code avoids the use of C pointers**\n",
    "\n",
    "First, raw pointers must under no circumstances own memory. That means you must delete after use it. \n",
    "\n",
    "Second, most uses of pointers in C++ are unnecessary. C++ has very strong support for value semantics, you can use smart pointer, container classes, design patterns like RAII, ect, instead of pointer.\n",
    "\n",
    "In computer science, a smart pointer is an abstract data type that simulates a pointer while providing additional features, such as automatic garbage collection or bounds checking. These additional features are intended to reduce bugs caused by the misuse of pointers while retaining efficiency. Smart pointers typically keep track of the objects they point to for the purpose of memory management.\n",
    "\n",
    "The misuse of pointers is a major source of bugs: the constant allocation, deallocation and referencing that must be performed by a program written using pointers introduces the risk that memory leaks will occur. Smart pointers try to prevent memory leaks by making the resource deallocation automatic: when the pointer (or the last in a series of pointers) to an object is destroyed, for example because it goes out of scope, the pointed object is destroyed too.\n",
    "\n",
    "//From: http://softwareengineering.stackexchange.com/questions/56935/why-are-pointers-not-recommended-when-coding-with-c"
   ]
  },
  {
   "cell_type": "markdown",
   "metadata": {},
   "source": [
    "**vi. Explain what new and delete do in C++, and how they relate to what you have done in C**\n",
    "\n",
    "\"New\" creates a pointer to an allocated memory block.  \"Delete\" deallocates the memory that is allocated by \"new\".\n",
    "It works differently from the way in C:\n",
    "\n",
    "Allocate memory: <br>\n",
    "C++: Node \\*n = new Node(); <br>\n",
    "C  : Node \\*n = (Node \\*)calloc(1, sizeof(Node));\n",
    "\n",
    "Deallocate memory: <br>\n",
    "C++: delete n; <br>\n",
    "C  : free(n);"
   ]
  },
  {
   "cell_type": "markdown",
   "metadata": {},
   "source": [
    "**vii. Explain what a memory leak is, and what you should do to avoid it**\n",
    "\n",
    "Memory leak means running out of system memory. When a program needs to store some temporary information during execution, it can dynamically request a chunk of memory from the system. However, the system has a fixed amount of total memory available. If one application uses up all of the system’s free memory, then other applications will not be able to obtain the memory that they require.\n",
    "\n",
    "//From: https://msdn.microsoft.com/en-us/library/ms859408.aspx\n",
    "\n",
    "I got three ways to avoid memory leak: <br>\n",
    "1.free(C) or delete(C++) the memory you allocated after finishing use it; <br>\n",
    "2.use smart pointer(C++) or other \"garbage collector\" to deallocate memory automatically after finishing use; <br>\n",
    "3.use fewer pointers if it is possible. \n"
   ]
  },
  {
   "cell_type": "markdown",
   "metadata": {},
   "source": [
    "**viii. Explain what a unique_ptr is and how it relates to both new and C pointers**\n",
    "\n",
    "std::unique_ptr is a smart pointer that owns and manages another object through a pointer and disposes of that object when the unique_ptr goes out of scope.\n",
    "The object is disposed of using the associated deleter when either of the following happens: <br>\n",
    "the managing unique_ptr object is destroyed <br>\n",
    "the managing unique_ptr object is assigned another pointer via operator= or reset().\n",
    "\n",
    "It uses \"new Node()\" to allocate a new pointer, new_node_ptr, whose type is std::unique_ptr. It is a pointer but would deallocate the memory automatically when it is useless.\n",
    "\n",
    "//From: http://en.cppreference.com/w/cpp/memory/unique_ptr\n"
   ]
  },
  {
   "cell_type": "code",
   "execution_count": null,
   "metadata": {
    "collapsed": true
   },
   "outputs": [],
   "source": [
    "//*Quote from comments:*\n",
    "    // However, by using the \"unique_ptr\" type above, we carefully avoid any\n",
    "    // explicit memory allocation by using the allocation pre-defined inside the\n",
    "    // unique_ptr itself. By using memory-safe structures in this way, we are using\n",
    "    // the \"Rule of Zero\" and simplifying our life by defining ZERO of them:\n",
    "    //   https://rmf.io/cxx11/rule-of-zero/\n",
    "    //   http://www.cplusplus.com/reference/memory/unique_ptr/"
   ]
  },
  {
   "cell_type": "markdown",
   "metadata": {},
   "source": [
    "**ix. Explain what a list initializer does**\n",
    "\n",
    "Constructor is a special non-static member function of a class that is used to initialize objects of its class type.\n",
    "In the definition of a constructor of a class, member initializer list specifies the initializers for direct and virtual base subobjects and non-static data members.\n",
    "\n",
    "The order of member initializers in the list is irrelevant: the actual order of initialization is as follows:\n",
    "\n",
    "1) If the constructor is for the most-derived class, virtual base classes are initialized in the order in which they appear in depth-first left-to-right traversal of the base class declarations (left-to-right refers to the appearance in base-specifier lists). <br>\n",
    "2) Then, direct base classes are initialized in left-to-right order as they appear in this class's base-specifier list. <br>\n",
    "3) Then, non-static data members are initialized in order of declaration in the class definition. <br>\n",
    "4) Finally, the body of the constructor is executed.\n",
    "\n",
    "//From:http://en.cppreference.com/w/cpp/language/initializer_list"
   ]
  },
  {
   "cell_type": "code",
   "execution_count": null,
   "metadata": {
    "collapsed": true
   },
   "outputs": [],
   "source": [
    "//*Quote from comments*\n",
    "\n",
    "// Implementation of default constructor\n",
    "Stack::Stack()\n",
    "    : depth(0)       // internal depth is 0\n",
    "    , head(nullptr)  // internal linked list is null to start\n",
    "{};\n",
    "// The construction \": var1(val1), var2(val2) {}\" is called a\n",
    "// \"list initializer\" for a constructor, and is the preferred\n",
    "// way of setting default field values for a class instance\n",
    "// Here 0 is the default value for Stack::depth\n",
    "// and nullptr is the default value for Stack::head"
   ]
  },
  {
   "cell_type": "markdown",
   "metadata": {},
   "source": [
    "**x. Explain what the \"Rule of Zero\" is, and how it relates to the \"Rule of Three\"**\n",
    "\n",
    "Rule of Zero: Classes that have custom destructors, copy/move constructors or copy/move assignment operators should deal exclusively with ownership (which follows from the Single Responsibility Principle). Other classes should not have custom destructors, copy/move constructors or copy/move assignment operators.\n",
    "\n",
    "Rule of Three: a class requires a user-defined destructor, a user-defined copy constructor, or a user-defined copy assignment operator.  It almost certainly requires all three.\n",
    "\n",
    "Rule of Zero does not need those three functions, but Rule of Three requires them.\n",
    "\n",
    "//From: http://en.cppreference.com/w/cpp/language/rule_of_three\n"
   ]
  },
  {
   "cell_type": "code",
   "execution_count": null,
   "metadata": {
    "collapsed": true
   },
   "outputs": [],
   "source": [
    "//*Quote from comments:*\n",
    "    // Normally we would have to implement the following things in C++ here:\n",
    "    //    1) Class Destructor : to deallocate memory when a Stack is deleted\n",
    "    //       ~Stack();\n",
    "    //\n",
    "    //    2) Copy Constructor : to define what Stack b(a) does when a is a Stack\n",
    "    //                          This should create a copy b of the Stack a, but\n",
    "    //                          should be defined appropriately to do that\n",
    "    //       Stack(const Stack&);\n",
    "    //\n",
    "    //    3) Copy Assignment  : to define what b = a does when a is a Stack\n",
    "    //                          This should create a shallow copy of the outer\n",
    "    //                          structure of a, but leave the inner structure as\n",
    "    //                          pointers to the memory contained in a, and should\n",
    "    //                          be defined appropriately to do that\n",
    "    //       Stack& operator=(const Stack&);\n",
    "    //\n",
    "    // The need for defining ALL THREE of these things when managing memory for a\n",
    "    // class explicitly is known as the \"Rule of Three\", and is standard\n",
    "    //   http://stackoverflow.com/questions/4172722/what-is-the-rule-of-three\n",
    "    //\n",
    "    // However, by using the \"unique_ptr\" type above, we carefully avoid any\n",
    "    // explicit memory allocation by using the allocation pre-defined inside the\n",
    "    // unique_ptr itself. By using memory-safe structures in this way, we are using\n",
    "    // the \"Rule of Zero\" and simplifying our life by defining ZERO of them:\n",
    "    //   https://rmf.io/cxx11/rule-of-zero/\n",
    "    //   http://www.cplusplus.com/reference/memory/unique_ptr/"
   ]
  },
  {
   "cell_type": "markdown",
   "metadata": {},
   "source": [
    "**xiii. Use valgrind to verify that you have no memory leaks in your working program. (You will have to edit the primary Makefile to change the CXXFLAGS to enable -g for debugging.)**\n",
    "\n",
    "No memory leaks.\n",
    "\n",
    "```\n",
    "$ valgrind --leak-check=yes test\n",
    "\n",
    "==13418== Memcheck, a memory error detector\n",
    "==13418== Copyright (C) 2002-2015, and GNU GPL'd, by Julian Seward et al.\n",
    "==13418== Using Valgrind-3.11.0 and LibVEX; rerun with -h for copyright info\n",
    "==13418== Command: test\n",
    "==13418==\n",
    "==13418==\n",
    "==13418== HEAP SUMMARY:\n",
    "==13418==     in use at exit: 0 bytes in 0 blocks\n",
    "==13418==   total heap usage: 523 allocs, 523 frees, 31,174 bytes allocated\n",
    "==13418==\n",
    "==13418== All heap blocks were freed -- no leaks are possible\n",
    "==13418==\n",
    "==13418== For counts of detected and suppressed errors, rerun with: -v\n",
    "==13418== ERROR SUMMARY: 0 errors from 0 contexts (suppressed: 1 from 1)\n",
    "```"
   ]
  }
 ],
 "metadata": {
  "kernelspec": {
   "display_name": "Python 2 (SageMath)",
   "language": "python",
   "name": "python2"
  },
  "language_info": {
   "codemirror_mode": {
    "name": "ipython",
    "version": 2
   },
   "file_extension": ".py",
   "mimetype": "text/x-python",
   "name": "python",
   "nbconvert_exporter": "python",
   "pygments_lexer": "ipython2",
   "version": "2.7.10"
  }
 },
 "nbformat": 4,
 "nbformat_minor": 0
}
